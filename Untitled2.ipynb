{
 "cells": [
  {
   "cell_type": "code",
   "execution_count": 10,
   "id": "55b01c1d",
   "metadata": {},
   "outputs": [
    {
     "name": "stdout",
     "output_type": "stream",
     "text": [
      "Not running in CI environment\n"
     ]
    }
   ],
   "source": [
    "import os\n",
    "\n",
    "if os.environ.get('Path') == 'true':\n",
    "    print('Running in CI environment')\n",
    "else:\n",
    "    print('Not running in CI environment')\n"
   ]
  },
  {
   "cell_type": "code",
   "execution_count": 8,
   "id": "80945cbd",
   "metadata": {},
   "outputs": [
    {
     "name": "stdout",
     "output_type": "stream",
     "text": [
      "C:\\Users\\Ptcl\\anaconda3;C:\\Users\\Ptcl\\anaconda3\\Library\\mingw-w64\\bin;C:\\Users\\Ptcl\\anaconda3\\Library\\usr\\bin;C:\\Users\\Ptcl\\anaconda3\\Library\\bin;C:\\Users\\Ptcl\\anaconda3\\Scripts;C:\\Users\\Ptcl\\anaconda3\\bin;C:\\Users\\Ptcl\\anaconda3\\condabin;C:\\Users\\Ptcl\\anaconda3;C:\\Users\\Ptcl\\anaconda3\\Library\\mingw-w64\\bin;C:\\Users\\Ptcl\\anaconda3\\Library\\usr\\bin;C:\\Users\\Ptcl\\anaconda3\\Library\\bin;C:\\Users\\Ptcl\\anaconda3\\Scripts;C:\\Program Files (x86)\\Common Files\\Oracle\\Java\\javapath;C:\\WINDOWS\\system32;C:\\WINDOWS;C:\\WINDOWS\\System32\\Wbem;C:\\WINDOWS\\System32\\WindowsPowerShell\\v1.0;C:\\Program Files (x86)\\Skype\\Phone;C:\\WINDOWS\\System32\\OpenSSH;C:\\Users\\Ptcl\\AppData\\Roaming\\Python\\Python39\\Scripts;C:\\Program Files\\nodejs;C:\\Program Files\\Docker\\Docker\\resources\\bin;C:\\Program Files\\Git\\cmd;C:\\Program Files\\Git\\mingw64\\bin;C:\\Program Files\\Git\\usr\\bin;C:\\Users\\Ptcl\\anaconda3;C:\\Users\\Ptcl\\anaconda3\\Library\\mingw-w64\\bin;C:\\Users\\Ptcl\\anaconda3\\Library\\usr\\bin;C:\\Users\\Ptcl\\anaconda3\\Library\\bin;C:\\Users\\Ptcl\\anaconda3\\Scripts;C:\\Users\\Ptcl\\AppData\\Local\\Microsoft\\WindowsApps;C:\\Users\\Ptcl\\AppData\\Local\\Programs\\Microsoft VS Code\\bin;C:\\Users\\Ptcl\\AppData\\Roaming\\npm\n"
     ]
    }
   ],
   "source": [
    "import os\n",
    "\n",
    "# get the value of the 'PATH' environment variable\n",
    "path_value = os.environ.get('Path')\n",
    "\n",
    "# print the value of the 'PATH' environment variable\n",
    "print(path_value)\n"
   ]
  },
  {
   "cell_type": "code",
   "execution_count": null,
   "id": "d08d72d0",
   "metadata": {},
   "outputs": [],
   "source": []
  }
 ],
 "metadata": {
  "kernelspec": {
   "display_name": "Python 3 (ipykernel)",
   "language": "python",
   "name": "python3"
  },
  "language_info": {
   "codemirror_mode": {
    "name": "ipython",
    "version": 3
   },
   "file_extension": ".py",
   "mimetype": "text/x-python",
   "name": "python",
   "nbconvert_exporter": "python",
   "pygments_lexer": "ipython3",
   "version": "3.9.13"
  }
 },
 "nbformat": 4,
 "nbformat_minor": 5
}
